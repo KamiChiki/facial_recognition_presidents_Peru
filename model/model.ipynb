{
 "cells": [
  {
   "cell_type": "code",
   "execution_count": 1,
   "metadata": {},
   "outputs": [],
   "source": [
    "#### Importar librerias \n",
    "\n",
    "import pandas as pd\n",
    "import numpy as np\n",
    "import matplotlib.pyplot as plt\n",
    "import seaborn as sns\n",
    "import warnings\n",
    "import os\n",
    "import glob\n",
    "from PIL import Image\n",
    "warnings.filterwarnings('ignore')\n",
    "\n",
    "#### Definir directorio\n",
    "os.chdir('../')"
   ]
  },
  {
   "cell_type": "code",
   "execution_count": 2,
   "metadata": {},
   "outputs": [
    {
     "data": {
      "text/plain": [
       "'c:\\\\Users\\\\aleja\\\\Documents\\\\Pry_ADySP_\\\\Presidentes_Peru_image_recognition'"
      ]
     },
     "execution_count": 2,
     "metadata": {},
     "output_type": "execute_result"
    }
   ],
   "source": [
    "os.getcwd()"
   ]
  },
  {
   "cell_type": "code",
   "execution_count": 3,
   "metadata": {},
   "outputs": [],
   "source": [
    "#### Procesa imagenes para homolagar \n",
    "def get_images(path):\n",
    "    images = []\n",
    "    for img_path in glob.glob(path): \n",
    "        img = Image.open(img_path).convert('RGB')\n",
    "        img = img.resize((550,550))\n",
    "        img = np.array(img)\n",
    "        images.append(img)\n",
    "    return np.array(images)    "
   ]
  },
  {
   "cell_type": "code",
   "execution_count": 4,
   "metadata": {},
   "outputs": [
    {
     "name": "stdout",
     "output_type": "stream",
     "text": [
      "End processing: 3.Alan Garcia\n",
      "End processing: 4.Ollanta Humala\n",
      "End processing: 6.Martin Vizcarra\n",
      "End processing: 9.Pedro Castillo\n",
      "End processing: 10.Dina Boluarte\n"
     ]
    }
   ],
   "source": [
    "#### Lista de presidentes de la ultima decada \n",
    "# presidentes = ['1.Valentin Paniagua', '2.Alejandro Toledo', '3.Alan Garcia', '4.Ollanta Humala', '5.Pedro Pablo Kuczynski', '6.Martin Vizcarra', '7.Manuel Merino', '8.Francisco Sagasti', '9.Pedro Castillo', '10.Dina Boluarte']\n",
    "presidentes = ['3.Alan Garcia', '4.Ollanta Humala','6.Martin Vizcarra','9.Pedro Castillo','10.Dina Boluarte']\n",
    "all_images = []\n",
    "\n",
    "for presidentes in presidentes :\n",
    "    images = get_images(f'data_set/{presidentes}/*')\n",
    "    all_images.append(images)\n",
    "    print(f'End processing: {presidentes}')"
   ]
  },
  {
   "cell_type": "code",
   "execution_count": 5,
   "metadata": {},
   "outputs": [],
   "source": [
    "#### Creamos las clases para cada presidente \n",
    "images = []\n",
    "#classes = [0, 1, 2, 3, 4, 5, 6, 7, 8, 9]\n",
    "classes = [0, 1, 2, 3, 4]\n",
    "y = []\n",
    "\n",
    "for class_ in classes:\n",
    "    for i in range(0, len(all_images[class_])):\n",
    "        images.append(all_images[class_][i,:,:,:])\n",
    "        y.append(class_)"
   ]
  },
  {
   "cell_type": "code",
   "execution_count": 6,
   "metadata": {},
   "outputs": [],
   "source": [
    "#### separamos la data para entrenamiento\n",
    "from sklearn.model_selection import train_test_split\n",
    "\n",
    "x_train, x_test, y_train, y_test = train_test_split(images, y, test_size=0.2, random_state=452)\n"
   ]
  },
  {
   "cell_type": "code",
   "execution_count": 7,
   "metadata": {},
   "outputs": [],
   "source": [
    "from tensorflow.keras.utils import to_categorical\n",
    "x_train_esc = np.array(x_train)/255\n",
    "x_test_esc = np.array(x_test)/255\n",
    "\n",
    "y_train_cat = to_categorical(y_train)"
   ]
  },
  {
   "cell_type": "code",
   "execution_count": 8,
   "metadata": {},
   "outputs": [
    {
     "name": "stdout",
     "output_type": "stream",
     "text": [
      "(101, 550, 550, 3)\n"
     ]
    }
   ],
   "source": [
    "print(x_test_esc.shape)"
   ]
  },
  {
   "cell_type": "code",
   "execution_count": 10,
   "metadata": {},
   "outputs": [],
   "source": [
    "\n",
    "import tensorflow as tf\n",
    "from tensorflow.keras.models import Sequential\n",
    "from tensorflow.keras.layers import Conv2D, MaxPooling2D, Flatten, Dense, Dropout\n",
    "from tensorflow.keras.optimizers import Adam\n",
    "from tensorflow.keras.utils import to_categorical\n",
    "from keras import backend as k\n",
    "\n",
    "k.clear_session()\n",
    "#tf.compat.v1.reset_default_graph()\n",
    "\n",
    "# Definir el modelo\n",
    "model = Sequential([\n",
    "\n",
    "    Conv2D(32, (3, 3), activation='relu', input_shape=(550, 550, 3)),\n",
    "    MaxPooling2D((2, 2)),\n",
    "\n",
    "    Conv2D(64, (3, 3), activation='relu'),\n",
    "    MaxPooling2D((2, 2)),\n",
    "    \n",
    "    Conv2D(124, (3, 3), activation='relu'),\n",
    "    MaxPooling2D((2, 2)),\n",
    "\n",
    "    Conv2D(256, (3, 3), activation='relu'),\n",
    "    MaxPooling2D((2, 2)),\n",
    "\n",
    "    #Dropout(0.3),\n",
    "\n",
    "    Conv2D(512, (3, 3), activation='relu'),\n",
    "    MaxPooling2D((2, 2)),\n",
    "    \n",
    "    # Dropout(0.3),\n",
    "\n",
    "    #Conv2D(1024, (3, 3), activation='relu'),\n",
    "    #MaxPooling2D((2, 2)),\n",
    "\n",
    "\n",
    "    Flatten(),\n",
    "    Dense(5, activation='softmax')\n",
    "])\n",
    "\n",
    "model.compile(optimizer = Adam(learning_rate = 0.001),\n",
    "              loss = 'categorical_crossentropy',  ### Modelos multiclass\n",
    "              metrics = ['accuracy'])"
   ]
  },
  {
   "cell_type": "code",
   "execution_count": 11,
   "metadata": {},
   "outputs": [
    {
     "name": "stdout",
     "output_type": "stream",
     "text": [
      "Epoch 1/8\n",
      "\u001b[1m40/40\u001b[0m \u001b[32m━━━━━━━━━━━━━━━━━━━━\u001b[0m\u001b[37m\u001b[0m \u001b[1m19s\u001b[0m 451ms/step - accuracy: 0.1914 - loss: 1.8740 - val_accuracy: 0.1728 - val_loss: 1.6094\n",
      "Epoch 2/8\n",
      "\u001b[1m40/40\u001b[0m \u001b[32m━━━━━━━━━━━━━━━━━━━━\u001b[0m\u001b[37m\u001b[0m \u001b[1m18s\u001b[0m 444ms/step - accuracy: 0.2127 - loss: 1.6099 - val_accuracy: 0.2099 - val_loss: 1.5787\n",
      "Epoch 3/8\n",
      "\u001b[1m40/40\u001b[0m \u001b[32m━━━━━━━━━━━━━━━━━━━━\u001b[0m\u001b[37m\u001b[0m \u001b[1m18s\u001b[0m 445ms/step - accuracy: 0.3030 - loss: 1.5858 - val_accuracy: 0.1852 - val_loss: 1.5821\n",
      "Epoch 4/8\n",
      "\u001b[1m40/40\u001b[0m \u001b[32m━━━━━━━━━━━━━━━━━━━━\u001b[0m\u001b[37m\u001b[0m \u001b[1m18s\u001b[0m 444ms/step - accuracy: 0.3764 - loss: 1.4898 - val_accuracy: 0.2840 - val_loss: 1.5050\n",
      "Epoch 5/8\n",
      "\u001b[1m40/40\u001b[0m \u001b[32m━━━━━━━━━━━━━━━━━━━━\u001b[0m\u001b[37m\u001b[0m \u001b[1m18s\u001b[0m 450ms/step - accuracy: 0.4624 - loss: 1.2956 - val_accuracy: 0.3333 - val_loss: 1.4254\n",
      "Epoch 6/8\n",
      "\u001b[1m40/40\u001b[0m \u001b[32m━━━━━━━━━━━━━━━━━━━━\u001b[0m\u001b[37m\u001b[0m \u001b[1m18s\u001b[0m 445ms/step - accuracy: 0.5425 - loss: 1.0495 - val_accuracy: 0.2716 - val_loss: 1.5869\n",
      "Epoch 7/8\n",
      "\u001b[1m40/40\u001b[0m \u001b[32m━━━━━━━━━━━━━━━━━━━━\u001b[0m\u001b[37m\u001b[0m \u001b[1m18s\u001b[0m 446ms/step - accuracy: 0.7092 - loss: 0.7805 - val_accuracy: 0.3580 - val_loss: 2.1219\n",
      "Epoch 8/8\n",
      "\u001b[1m40/40\u001b[0m \u001b[32m━━━━━━━━━━━━━━━━━━━━\u001b[0m\u001b[37m\u001b[0m \u001b[1m18s\u001b[0m 451ms/step - accuracy: 0.7992 - loss: 0.5102 - val_accuracy: 0.3210 - val_loss: 2.2196\n"
     ]
    },
    {
     "data": {
      "text/plain": [
       "<keras.src.callbacks.history.History at 0x1fbeaf2d070>"
      ]
     },
     "execution_count": 11,
     "metadata": {},
     "output_type": "execute_result"
    }
   ],
   "source": [
    "#### entrenar fit\n",
    "\n",
    "model.fit(x_train_esc, y_train_cat, epochs= 8, batch_size =8, validation_split = 0.2)"
   ]
  },
  {
   "cell_type": "code",
   "execution_count": 12,
   "metadata": {},
   "outputs": [
    {
     "name": "stdout",
     "output_type": "stream",
     "text": [
      "\u001b[1m4/4\u001b[0m \u001b[32m━━━━━━━━━━━━━━━━━━━━\u001b[0m\u001b[37m\u001b[0m \u001b[1m2s\u001b[0m 389ms/step\n"
     ]
    }
   ],
   "source": [
    "#### Datos de Train\n",
    "preds = model.predict(x_test_esc)"
   ]
  },
  {
   "cell_type": "code",
   "execution_count": 13,
   "metadata": {},
   "outputs": [],
   "source": [
    "\n",
    "#### Datos de entrenamiento \n",
    "y_pred = []\n",
    "for i in range(0,preds.shape[0]):\n",
    "    y_pred.append(np.argmax(preds[i]))"
   ]
  },
  {
   "cell_type": "code",
   "execution_count": 14,
   "metadata": {},
   "outputs": [
    {
     "data": {
      "image/png": "[encoded data removed]",
      "text/plain": [
       "<Figure size 640x480 with 2 Axes>"
      ]
     },
     "metadata": {},
     "output_type": "display_data"
    }
   ],
   "source": [
    "#### Performance evaluation\n",
    "from sklearn.metrics import accuracy_score, confusion_matrix, ConfusionMatrixDisplay\n",
    "#### Lista de presidentes de la ultima decada \n",
    "#  '1.Valentin Paniagua', '2.Alejandro Toledo', '3.Alan Garcia', '4.Ollanta Humala', '5.Pedro Pablo Kuczynski', '6.Martin Vizcarra', '7.Manuel Merino', '8.Francisco Sagasti', '9.Pedro Castillo', '10.Dina Boluarte'\n",
    "cm = confusion_matrix(y_test, y_pred)\n",
    "disp = ConfusionMatrixDisplay(confusion_matrix=cm,display_labels=classes)\n",
    "disp.plot()\n",
    "plt.show()"
   ]
  },
  {
   "cell_type": "code",
   "execution_count": 15,
   "metadata": {},
   "outputs": [
    {
     "data": {
      "text/plain": [
       "0.42574257425742573"
      ]
     },
     "execution_count": 15,
     "metadata": {},
     "output_type": "execute_result"
    }
   ],
   "source": [
    "accuracy_score(y_test,y_pred)"
   ]
  },
  {
   "cell_type": "code",
   "execution_count": 20,
   "metadata": {},
   "outputs": [
    {
     "name": "stderr",
     "output_type": "stream",
     "text": [
      "WARNING:absl:You are saving your model as an HDF5 file via `model.save()` or `keras.saving.save_model(model)`. This file format is considered legacy. We recommend using instead the native Keras format, e.g. `model.save('my_model.keras')` or `keras.saving.save_model(model, 'my_model.keras')`. \n"
     ]
    }
   ],
   "source": [
    "model.save('model/final_model.h5')"
   ]
  }
 ],
 "metadata": {
  "kernelspec": {
   "display_name": "Python 3",
   "language": "python",
   "name": "python3"
  },
  "language_info": {
   "codemirror_mode": {
    "name": "ipython",
    "version": 3
   },
   "file_extension": ".py",
   "mimetype": "text/x-python",
   "name": "python",
   "nbconvert_exporter": "python",
   "pygments_lexer": "ipython3",
   "version": "3.12.4"
  }
 },
 "nbformat": 4,
 "nbformat_minor": 2
}
