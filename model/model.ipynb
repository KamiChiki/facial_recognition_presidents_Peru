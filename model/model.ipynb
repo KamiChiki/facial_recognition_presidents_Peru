{
 "cells": [
  {
   "cell_type": "code",
   "execution_count": 1,
   "metadata": {},
   "outputs": [],
   "source": [
    "#### Importar librerias \n",
    "\n",
    "import pandas as pd\n",
    "import numpy as np\n",
    "import matplotlib.pyplot as plt\n",
    "import seaborn as sns\n",
    "import warnings\n",
    "import os\n",
    "import glob\n",
    "from PIL import Image\n",
    "warnings.filterwarnings('ignore')\n",
    "\n",
    "#### Definir directorio\n",
    "os.chdir('../')"
   ]
  },
  {
   "cell_type": "code",
   "execution_count": 2,
   "metadata": {},
   "outputs": [
    {
     "data": {
      "text/plain": [
       "'c:\\\\Users\\\\aleja\\\\Documents\\\\Pry_ADySP_\\\\Presidentes_Peru_image_recognition'"
      ]
     },
     "execution_count": 2,
     "metadata": {},
     "output_type": "execute_result"
    }
   ],
   "source": [
    "os.getcwd()"
   ]
  },
  {
   "cell_type": "code",
   "execution_count": 3,
   "metadata": {},
   "outputs": [],
   "source": [
    "#### Procesa imagenes para homolagar \n",
    "def get_images(path):\n",
    "    images = []\n",
    "    for img_path in glob.glob(path): \n",
    "        img = Image.open(img_path).convert('RGB')\n",
    "        img = img.resize((500,500))\n",
    "        img = np.array(img)\n",
    "        images.append(img)\n",
    "    return np.array(images)    "
   ]
  },
  {
   "cell_type": "code",
   "execution_count": 4,
   "metadata": {},
   "outputs": [
    {
     "name": "stdout",
     "output_type": "stream",
     "text": [
      "End processing: 1.Valentin Paniagua\n",
      "End processing: 2.Alejandro Toledo\n",
      "End processing: 3.Alan Garcia\n",
      "End processing: 4.Ollanta Humala\n",
      "End processing: 5.Pedro Pablo Kuczynski\n",
      "End processing: 6.Martin Vizcarra\n",
      "End processing: 7.Manuel Merino\n",
      "End processing: 8.Francisco Sagasti\n",
      "End processing: 9.Pedro Castillo\n",
      "End processing: 10.Dina Boluarte\n"
     ]
    }
   ],
   "source": [
    "#### Lista de presidentes de la ultima decada \n",
    "presidentes = ['1.Valentin Paniagua', '2.Alejandro Toledo', '3.Alan Garcia', '4.Ollanta Humala', '5.Pedro Pablo Kuczynski', '6.Martin Vizcarra', '7.Manuel Merino', '8.Francisco Sagasti', '9.Pedro Castillo', '10.Dina Boluarte']\n",
    "\n",
    "all_images = []\n",
    "\n",
    "for presidentes in presidentes :\n",
    "    images = get_images(f'data_set/{presidentes}/*')\n",
    "    all_images.append(images)\n",
    "    print(f'End processing: {presidentes}')"
   ]
  },
  {
   "cell_type": "code",
   "execution_count": 5,
   "metadata": {},
   "outputs": [],
   "source": [
    "#### Creamos las clases para cada presidente \n",
    "images = []\n",
    "classes = [0, 1, 2, 3, 4, 5, 6, 7, 8, 9]\n",
    "y = []\n",
    "\n",
    "for class_ in classes:\n",
    "    for i in range(0, len(all_images[class_])):\n",
    "        images.append(all_images[class_][i,:,:,:])\n",
    "        y.append(class_)"
   ]
  },
  {
   "cell_type": "code",
   "execution_count": 6,
   "metadata": {},
   "outputs": [],
   "source": [
    "#### separamos la data para entrenamiento\n",
    "from sklearn.model_selection import train_test_split\n",
    "\n",
    "x_train, x_test, y_train, y_test = train_test_split(images, y, test_size=0.2, random_state=452)\n"
   ]
  },
  {
   "cell_type": "code",
   "execution_count": 7,
   "metadata": {},
   "outputs": [],
   "source": [
    "from tensorflow.keras.utils import to_categorical\n",
    "x_train_esc = np.array(x_train)/255\n",
    "x_test_esc = np.array(x_test)/255\n",
    "\n",
    "y_train_cat = to_categorical(y_train)"
   ]
  },
  {
   "cell_type": "code",
   "execution_count": 8,
   "metadata": {},
   "outputs": [
    {
     "name": "stdout",
     "output_type": "stream",
     "text": [
      "(248, 500, 500, 3)\n"
     ]
    }
   ],
   "source": [
    "print(x_test_esc.shape)"
   ]
  },
  {
   "cell_type": "code",
   "execution_count": 39,
   "metadata": {},
   "outputs": [],
   "source": [
    "\n",
    "import tensorflow as tf\n",
    "from tensorflow.keras.models import Sequential\n",
    "from tensorflow.keras.layers import Conv2D, MaxPooling2D, Flatten, Dense, Dropout\n",
    "from tensorflow.keras.optimizers import Adam\n",
    "from tensorflow.keras.utils import to_categorical\n",
    "from keras import backend as k\n",
    "\n",
    "k.clear_session()\n",
    "#tf.compat.v1.reset_default_graph()\n",
    "\n",
    "# Definir el modelo\n",
    "model = Sequential([\n",
    "\n",
    "    Conv2D(32, (3, 3), activation='relu', input_shape=(500, 500, 3)),\n",
    "    MaxPooling2D((2, 2)),\n",
    "\n",
    "    Conv2D(64, (3, 3), activation='relu'),\n",
    "    MaxPooling2D((2, 2)),\n",
    "    \n",
    "    Conv2D(124, (3, 3), activation='relu'),\n",
    "    MaxPooling2D((2, 2)),\n",
    "\n",
    "    #Dropout(0.5), \n",
    "\n",
    "    Conv2D(256, (3, 3), activation='relu'),\n",
    "    MaxPooling2D((2, 2)),\n",
    "\n",
    "    #Dropout(0.3),\n",
    "\n",
    "    #Conv2D(512, (3, 3), activation='relu'),\n",
    "    #MaxPooling2D((2, 2)),\n",
    "    \n",
    "    # Dropout(0.3),\n",
    "\n",
    "    #Conv2D(1024, (3, 3), activation='relu'),\n",
    "    #MaxPooling2D((2, 2)),\n",
    "\n",
    "\n",
    "    Flatten(),\n",
    "    Dense(10, activation='softmax')\n",
    "])\n",
    "\n",
    "model.compile(optimizer = Adam(learning_rate = 0.001),\n",
    "              loss = 'categorical_crossentropy',  ### Modelos multiclass\n",
    "              metrics = ['accuracy'])"
   ]
  },
  {
   "cell_type": "code",
   "execution_count": 40,
   "metadata": {},
   "outputs": [
    {
     "name": "stdout",
     "output_type": "stream",
     "text": [
      "Epoch 1/7\n",
      "\u001b[1m79/79\u001b[0m \u001b[32m━━━━━━━━━━━━━━━━━━━━\u001b[0m\u001b[37m\u001b[0m \u001b[1m32s\u001b[0m 400ms/step - accuracy: 0.1634 - loss: 2.9249 - val_accuracy: 0.2172 - val_loss: 2.2266\n",
      "Epoch 2/7\n",
      "\u001b[1m79/79\u001b[0m \u001b[32m━━━━━━━━━━━━━━━━━━━━\u001b[0m\u001b[37m\u001b[0m \u001b[1m31s\u001b[0m 390ms/step - accuracy: 0.2298 - loss: 2.1883 - val_accuracy: 0.2424 - val_loss: 2.1319\n",
      "Epoch 3/7\n",
      "\u001b[1m79/79\u001b[0m \u001b[32m━━━━━━━━━━━━━━━━━━━━\u001b[0m\u001b[37m\u001b[0m \u001b[1m31s\u001b[0m 387ms/step - accuracy: 0.3191 - loss: 1.9231 - val_accuracy: 0.3434 - val_loss: 2.1595\n",
      "Epoch 4/7\n",
      "\u001b[1m79/79\u001b[0m \u001b[32m━━━━━━━━━━━━━━━━━━━━\u001b[0m\u001b[37m\u001b[0m \u001b[1m31s\u001b[0m 392ms/step - accuracy: 0.7122 - loss: 0.9036 - val_accuracy: 0.3232 - val_loss: 2.4543\n",
      "Epoch 5/7\n",
      "\u001b[1m79/79\u001b[0m \u001b[32m━━━━━━━━━━━━━━━━━━━━\u001b[0m\u001b[37m\u001b[0m \u001b[1m31s\u001b[0m 392ms/step - accuracy: 0.9224 - loss: 0.2577 - val_accuracy: 0.3737 - val_loss: 4.9010\n",
      "Epoch 6/7\n",
      "\u001b[1m79/79\u001b[0m \u001b[32m━━━━━━━━━━━━━━━━━━━━\u001b[0m\u001b[37m\u001b[0m \u001b[1m31s\u001b[0m 388ms/step - accuracy: 0.9932 - loss: 0.0364 - val_accuracy: 0.3485 - val_loss: 6.8214\n",
      "Epoch 7/7\n",
      "\u001b[1m79/79\u001b[0m \u001b[32m━━━━━━━━━━━━━━━━━━━━\u001b[0m\u001b[37m\u001b[0m \u001b[1m31s\u001b[0m 389ms/step - accuracy: 1.0000 - loss: 0.0083 - val_accuracy: 0.3434 - val_loss: 8.6484\n"
     ]
    },
    {
     "data": {
      "text/plain": [
       "<keras.src.callbacks.history.History at 0x22eb95b1fd0>"
      ]
     },
     "execution_count": 40,
     "metadata": {},
     "output_type": "execute_result"
    }
   ],
   "source": [
    "#### entrenar fit\n",
    "\n",
    "model.fit(x_train_esc, y_train_cat, epochs= 7, batch_size =10, validation_split = 0.2)"
   ]
  },
  {
   "cell_type": "code",
   "execution_count": 42,
   "metadata": {},
   "outputs": [
    {
     "name": "stdout",
     "output_type": "stream",
     "text": [
      "\u001b[1m8/8\u001b[0m \u001b[32m━━━━━━━━━━━━━━━━━━━━\u001b[0m\u001b[37m\u001b[0m \u001b[1m3s\u001b[0m 357ms/step\n"
     ]
    }
   ],
   "source": [
    "#### Datos de Train\n",
    "preds = model.predict(x_test_esc)"
   ]
  },
  {
   "cell_type": "code",
   "execution_count": 43,
   "metadata": {},
   "outputs": [],
   "source": [
    "\n",
    "#### Datos de entrenamiento \n",
    "y_pred = []\n",
    "for i in range(0,preds.shape[0]):\n",
    "    y_pred.append(np.argmax(preds[i]))"
   ]
  },
  {
   "cell_type": "code",
   "execution_count": 44,
   "metadata": {},
   "outputs": [
    {
     "data": {
      "image/png": "[encoded data removed]",
      "text/plain": [
       "<Figure size 640x480 with 2 Axes>"
      ]
     },
     "metadata": {},
     "output_type": "display_data"
    }
   ],
   "source": [
    "#### Performance evaluation\n",
    "from sklearn.metrics import accuracy_score, confusion_matrix, ConfusionMatrixDisplay\n",
    "#### Lista de presidentes de la ultima decada \n",
    "#  '1.Valentin Paniagua', '2.Alejandro Toledo', '3.Alan Garcia', '4.Ollanta Humala', '5.Pedro Pablo Kuczynski', '6.Martin Vizcarra', '7.Manuel Merino', '8.Francisco Sagasti', '9.Pedro Castillo', '10.Dina Boluarte'\n",
    "cm = confusion_matrix(y_test, y_pred)\n",
    "disp = ConfusionMatrixDisplay(confusion_matrix=cm,display_labels=classes)\n",
    "disp.plot()\n",
    "plt.show()"
   ]
  },
  {
   "cell_type": "code",
   "execution_count": 45,
   "metadata": {},
   "outputs": [
    {
     "data": {
      "text/plain": [
       "0.375"
      ]
     },
     "execution_count": 45,
     "metadata": {},
     "output_type": "execute_result"
    }
   ],
   "source": [
    "accuracy_score(y_test,y_pred)"
   ]
  }
 ],
 "metadata": {
  "kernelspec": {
   "display_name": "Python 3",
   "language": "python",
   "name": "python3"
  },
  "language_info": {
   "codemirror_mode": {
    "name": "ipython",
    "version": 3
   },
   "file_extension": ".py",
   "mimetype": "text/x-python",
   "name": "python",
   "nbconvert_exporter": "python",
   "pygments_lexer": "ipython3",
   "version": "3.12.4"
  }
 },
 "nbformat": 4,
 "nbformat_minor": 2
}
